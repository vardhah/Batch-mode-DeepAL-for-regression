{
 "cells": [
  {
   "cell_type": "code",
   "execution_count": 1,
   "id": "0e344f41",
   "metadata": {},
   "outputs": [],
   "source": [
    "import numpy as np\n",
    "import matplotlib.pyplot as plt\n",
    "import pandas as pd\n",
    "from operator import add\n",
    "import seaborn as sns"
   ]
  },
  {
   "cell_type": "code",
   "execution_count": 2,
   "id": "a565fcaf",
   "metadata": {},
   "outputs": [],
   "source": [
    "def data_split_size(data,size):\n",
    "      #on a given dataset return the splitted data=> train_data(based on size),validate_data(leftover)\n",
    "      a_list=np.arange(data.shape[0])\n",
    "      np.random.shuffle(a_list)\n",
    "      alist=a_list[0:size]\n",
    "      train_data=data[alist]\n",
    "      d=np.arange(data.shape[0])\n",
    "      leftover=np.delete(d,alist)\n",
    "      validate_data=data[leftover]\n",
    "      return train_data,validate_data\n",
    "    \n",
    "    \n",
    "def label_data(data,stest_pred):\n",
    "      # create label for data(if predicted vale is >/< 5% of error then it labels it '1' or else it is '0')\n",
    "      ones=np.ones(stest_pred.shape[0])\n",
    "      zeros= np.zeros(stest_pred.shape[0])\n",
    "      #print('test shape:',test_data[:,-1].shape,'zeros shape:',zeros.shape,'ones shape:',ones.shape,'stest shape',stest_pred.flatten().shape)\n",
    "      result = np.where(np.absolute((data[:,-1]-stest_pred.flatten())) > (0.05*np.absolute(data[:,-1])),ones,zeros)\n",
    "      data[:,-1]=result\n",
    "      return data\n",
    "    \n",
    "def accuracy_estim(labeled_data):\n",
    "    index_f = np.where(labeled_data[:,-1]==1)\n",
    "    index_p = np.where(labeled_data[:,-1]==0)\n",
    "    failed_gt= labeled_data[index_f[0]]\n",
    "    passed_gt=labeled_data[index_p[0]]\n",
    "    return (passed_gt.shape[0]/(passed_gt.shape[0]+failed_gt.shape[0]))"
   ]
  },
  {
   "cell_type": "code",
   "execution_count": 3,
   "id": "36f49201",
   "metadata": {},
   "outputs": [
    {
     "name": "stdout",
     "output_type": "stream",
     "text": [
      "(8000, 5) (3131, 5)\n"
     ]
    }
   ],
   "source": [
    "train_data= np.loadtxt(\"./dataware/train_data.txt\", delimiter=\" \",skiprows=0, dtype=np.float32)\n",
    "test_data= np.loadtxt(\"./dataware/test_data.txt\", delimiter=\" \",skiprows=0, dtype=np.float32)\n",
    "print(train_data.shape,test_data.shape)"
   ]
  },
  {
   "cell_type": "markdown",
   "id": "78f95005",
   "metadata": {},
   "source": [
    "# Random forest"
   ]
  },
  {
   "cell_type": "code",
   "execution_count": 4,
   "id": "d839b8f8",
   "metadata": {},
   "outputs": [
    {
     "name": "stdout",
     "output_type": "stream",
     "text": [
      "[[ 0.26        0.69689757  2.         51.32946   ]\n",
      " [ 0.5         1.1038107   1.6        15.0969    ]\n",
      " [ 0.08        0.46149614  1.6        48.31008   ]\n",
      " ...\n",
      " [ 0.42        0.75116843  3.6         3.01938   ]\n",
      " [ 0.39        0.8934847   1.2         9.05814   ]\n",
      " [ 0.41        0.8388722   1.2        21.13566   ]] [150.15158   36.279015 286.4871   ...   6.592417  21.815022  43.81301 ]\n",
      "pred_y : (3131,) test_y: (3131,)\n",
      "accuracy estimation: 0.5151708719259023\n"
     ]
    }
   ],
   "source": [
    "from sklearn.ensemble import RandomForestRegressor\n",
    "train_X, train_y = train_data[:,:-1],train_data[:,-1]\n",
    "test_X, test_y = test_data[:,:-1],test_data[:,-1]\n",
    "print(train_X, train_y)\n",
    "regr = RandomForestRegressor(random_state=0)\n",
    "\n",
    "regr.fit(train_X, train_y)\n",
    "pred_y=regr.predict(test_X)\n",
    "print('pred_y :',pred_y.shape,'test_y:',test_y.shape)\n",
    "copied_test_data=np.copy(test_data)\n",
    "labeled_data= label_data(copied_test_data,pred_y)\n",
    "print('accuracy estimation:',accuracy_estim(labeled_data))"
   ]
  },
  {
   "cell_type": "code",
   "execution_count": 33,
   "id": "3e4e537e",
   "metadata": {},
   "outputs": [
    {
     "name": "stdout",
     "output_type": "stream",
     "text": [
      "[[ 0.26        0.69689757  2.         51.32946   ]\n",
      " [ 0.5         1.1038107   1.6        15.0969    ]\n",
      " [ 0.08        0.46149614  1.6        48.31008   ]\n",
      " ...\n",
      " [ 0.42        0.75116843  3.6         3.01938   ]\n",
      " [ 0.39        0.8934847   1.2         9.05814   ]\n",
      " [ 0.41        0.8388722   1.2        21.13566   ]] [150.15158   36.279015 286.4871   ...   6.592417  21.815022  43.81301 ]\n",
      "pred_y : (3131,) test_y: (3131,)\n",
      "accuracy estimation: 0.5212392206962632\n"
     ]
    }
   ],
   "source": [
    "from sklearn.ensemble import RandomForestRegressor\n",
    "train_X, train_y = train_data[:,:-1],train_data[:,-1]\n",
    "test_X, test_y = test_data[:,:-1],test_data[:,-1]\n",
    "print(train_X, train_y)\n",
    "regr = RandomForestRegressor(n_estimators=60,max_depth=60)\n",
    "\n",
    "regr.fit(train_X, train_y)\n",
    "pred_y=regr.predict(test_X)\n",
    "print('pred_y :',pred_y.shape,'test_y:',test_y.shape)\n",
    "copied_test_data=np.copy(test_data)\n",
    "labeled_data= label_data(copied_test_data,pred_y)\n",
    "print('accuracy estimation:',accuracy_estim(labeled_data))"
   ]
  },
  {
   "cell_type": "markdown",
   "id": "681374ba",
   "metadata": {},
   "source": [
    "# XGBoost"
   ]
  },
  {
   "cell_type": "code",
   "execution_count": 5,
   "id": "6ee41267",
   "metadata": {},
   "outputs": [
    {
     "name": "stdout",
     "output_type": "stream",
     "text": [
      "pred_y : [506.19382557 280.90176384 320.18971819 ... 350.46454129 916.34952209\n",
      "  79.07752811] test_y: [188.67332   70.29463   71.55759  ... 212.18944  739.9296   108.803375]\n",
      "accuracy estimation: 0.2488022995847972\n"
     ]
    }
   ],
   "source": [
    "from sklearn import ensemble\n",
    "from sklearn.inspection import permutation_importance\n",
    "from sklearn.metrics import mean_squared_error\n",
    "\n",
    "regr = ensemble.GradientBoostingRegressor()\n",
    "\n",
    "regr.fit(train_X, train_y)\n",
    "pred_y=regr.predict(test_X)\n",
    "print('pred_y :',pred_y,'test_y:',test_y)\n",
    "copied_test_data=np.copy(test_data)\n",
    "labeled_data= label_data(copied_test_data,pred_y)\n",
    "print('accuracy estimation:',accuracy_estim(labeled_data))"
   ]
  },
  {
   "cell_type": "code",
   "execution_count": 41,
   "id": "2406e6a9",
   "metadata": {},
   "outputs": [
    {
     "name": "stdout",
     "output_type": "stream",
     "text": [
      "pred_y : [420.73615003 178.63422142 209.39350642 ... 382.05147255 888.22644562\n",
      "  73.19304919] test_y: [188.67332   70.29463   71.55759  ... 212.18944  739.9296   108.803375]\n",
      "accuracy estimation: 0.23059725327371447\n"
     ]
    }
   ],
   "source": [
    "from sklearn import ensemble\n",
    "from sklearn.inspection import permutation_importance\n",
    "from sklearn.metrics import mean_squared_error\n",
    "\n",
    "regr = ensemble.GradientBoostingRegressor(learning_rate=0.3,n_estimators=50)\n",
    "\n",
    "regr.fit(train_X, train_y)\n",
    "pred_y=regr.predict(test_X)\n",
    "print('pred_y :',pred_y,'test_y:',test_y)\n",
    "copied_test_data=np.copy(test_data)\n",
    "labeled_data= label_data(copied_test_data,pred_y)\n",
    "print('accuracy estimation:',accuracy_estim(labeled_data))"
   ]
  },
  {
   "cell_type": "markdown",
   "id": "c6dbfb8e",
   "metadata": {},
   "source": [
    "# GP regressor"
   ]
  },
  {
   "cell_type": "code",
   "execution_count": 6,
   "id": "2c1561cc",
   "metadata": {},
   "outputs": [],
   "source": [
    "from sklearn.gaussian_process import GaussianProcessRegressor\n",
    "from sklearn.gaussian_process.kernels import DotProduct, WhiteKernel\n",
    "\n",
    "kernel = DotProduct() + WhiteKernel()\n",
    "gpr = GaussianProcessRegressor(kernel=kernel,random_state=0).fit(train_X, train_y)\n",
    "\n",
    "pred_y=gpr.predict(test_X, return_std=False)"
   ]
  },
  {
   "cell_type": "code",
   "execution_count": 7,
   "id": "1cb78678",
   "metadata": {},
   "outputs": [
    {
     "name": "stdout",
     "output_type": "stream",
     "text": [
      "accuracy estimation: 0.026509102523155543\n"
     ]
    }
   ],
   "source": [
    "copied_test_data=np.copy(test_data)\n",
    "labeled_data= label_data(copied_test_data,pred_y)\n",
    "print('accuracy estimation:',accuracy_estim(labeled_data))"
   ]
  },
  {
   "cell_type": "code",
   "execution_count": 8,
   "id": "f15fee6f",
   "metadata": {},
   "outputs": [
    {
     "name": "stdout",
     "output_type": "stream",
     "text": [
      "pred_y : [427.82035309 348.44164534 394.17641655 ... 425.35305756 763.46434122\n",
      " -33.2065582 ] test_y: [188.67332   70.29463   71.55759  ... 212.18944  739.9296   108.803375]\n"
     ]
    }
   ],
   "source": [
    "print('pred_y :',pred_y,'test_y:',test_y)"
   ]
  },
  {
   "cell_type": "code",
   "execution_count": null,
   "id": "f3c6916f",
   "metadata": {},
   "outputs": [],
   "source": []
  }
 ],
 "metadata": {
  "kernelspec": {
   "display_name": "Python 3 (ipykernel)",
   "language": "python",
   "name": "python3"
  },
  "language_info": {
   "codemirror_mode": {
    "name": "ipython",
    "version": 3
   },
   "file_extension": ".py",
   "mimetype": "text/x-python",
   "name": "python",
   "nbconvert_exporter": "python",
   "pygments_lexer": "ipython3",
   "version": "3.9.5"
  }
 },
 "nbformat": 4,
 "nbformat_minor": 5
}
